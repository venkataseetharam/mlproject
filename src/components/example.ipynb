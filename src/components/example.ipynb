{
 "cells": [
  {
   "cell_type": "code",
   "execution_count": 1,
   "metadata": {},
   "outputs": [],
   "source": [
    "import pandas as pd"
   ]
  },
  {
   "cell_type": "code",
   "execution_count": 3,
   "metadata": {},
   "outputs": [
    {
     "data": {
      "text/html": [
       "<div>\n",
       "<style scoped>\n",
       "    .dataframe tbody tr th:only-of-type {\n",
       "        vertical-align: middle;\n",
       "    }\n",
       "\n",
       "    .dataframe tbody tr th {\n",
       "        vertical-align: top;\n",
       "    }\n",
       "\n",
       "    .dataframe thead th {\n",
       "        text-align: right;\n",
       "    }\n",
       "</style>\n",
       "<table border=\"1\" class=\"dataframe\">\n",
       "  <thead>\n",
       "    <tr style=\"text-align: right;\">\n",
       "      <th></th>\n",
       "      <th>gender\\trace_ethnicity\\tparental_level_of_education\\tlunch\\ttest_preparation_course\\tmath_score\\treading_score\\twriting_score</th>\n",
       "    </tr>\n",
       "  </thead>\n",
       "  <tbody>\n",
       "    <tr>\n",
       "      <th>0</th>\n",
       "      <td>female\\tgroup D\\tmaster's degree\\tstandard\\tno...</td>\n",
       "    </tr>\n",
       "    <tr>\n",
       "      <th>1</th>\n",
       "      <td>female\\tgroup C\\tbachelor's degree\\tfree/reduc...</td>\n",
       "    </tr>\n",
       "    <tr>\n",
       "      <th>2</th>\n",
       "      <td>female\\tgroup D\\tsome college\\tfree/reduced\\tn...</td>\n",
       "    </tr>\n",
       "    <tr>\n",
       "      <th>3</th>\n",
       "      <td>male\\tgroup C\\tmaster's degree\\tfree/reduced\\t...</td>\n",
       "    </tr>\n",
       "    <tr>\n",
       "      <th>4</th>\n",
       "      <td>male\\tgroup E\\thigh school\\tstandard\\tnone\\t73...</td>\n",
       "    </tr>\n",
       "  </tbody>\n",
       "</table>\n",
       "</div>"
      ],
      "text/plain": [
       "  gender\\trace_ethnicity\\tparental_level_of_education\\tlunch\\ttest_preparation_course\\tmath_score\\treading_score\\twriting_score\n",
       "0  female\\tgroup D\\tmaster's degree\\tstandard\\tno...                                                                           \n",
       "1  female\\tgroup C\\tbachelor's degree\\tfree/reduc...                                                                           \n",
       "2  female\\tgroup D\\tsome college\\tfree/reduced\\tn...                                                                           \n",
       "3  male\\tgroup C\\tmaster's degree\\tfree/reduced\\t...                                                                           \n",
       "4  male\\tgroup E\\thigh school\\tstandard\\tnone\\t73...                                                                           "
      ]
     },
     "execution_count": 3,
     "metadata": {},
     "output_type": "execute_result"
    }
   ],
   "source": [
    "df=pd.read_csv(r\"D:\\mlproject\\artifacts\\train.csv\")\n",
    "df.head()"
   ]
  },
  {
   "cell_type": "code",
   "execution_count": 9,
   "metadata": {},
   "outputs": [
    {
     "data": {
      "text/html": [
       "<div>\n",
       "<style scoped>\n",
       "    .dataframe tbody tr th:only-of-type {\n",
       "        vertical-align: middle;\n",
       "    }\n",
       "\n",
       "    .dataframe tbody tr th {\n",
       "        vertical-align: top;\n",
       "    }\n",
       "\n",
       "    .dataframe thead th {\n",
       "        text-align: right;\n",
       "    }\n",
       "</style>\n",
       "<table border=\"1\" class=\"dataframe\">\n",
       "  <thead>\n",
       "    <tr style=\"text-align: right;\">\n",
       "      <th></th>\n",
       "      <th>gender\\trace_ethnicity\\tparental_level_of_education\\tlunch\\ttest_preparation_course\\tmath_score\\treading_score\\twriting_score</th>\n",
       "    </tr>\n",
       "  </thead>\n",
       "  <tbody>\n",
       "    <tr>\n",
       "      <th>0</th>\n",
       "      <td>female\\tgroup D\\tmaster's degree\\tstandard\\tno...</td>\n",
       "    </tr>\n",
       "  </tbody>\n",
       "</table>\n",
       "</div>"
      ],
      "text/plain": [
       "  gender\\trace_ethnicity\\tparental_level_of_education\\tlunch\\ttest_preparation_course\\tmath_score\\treading_score\\twriting_score\n",
       "0  female\\tgroup D\\tmaster's degree\\tstandard\\tno...                                                                           "
      ]
     },
     "execution_count": 9,
     "metadata": {},
     "output_type": "execute_result"
    }
   ],
   "source": [
    "c=df[:1]\n",
    "c"
   ]
  },
  {
   "cell_type": "code",
   "execution_count": 10,
   "metadata": {},
   "outputs": [
    {
     "name": "stdout",
     "output_type": "stream",
     "text": [
      "  gender\\trace_ethnicity\\tparental_level_of_education\\tlunch\\ttest_preparation_course\\tmath_score\\treading_score\\twriting_score\n",
      "0  female\\tgroup D\\tmaster's degree\\tstandard\\tno...                                                                           \n"
     ]
    }
   ],
   "source": [
    "print(c)"
   ]
  },
  {
   "cell_type": "code",
   "execution_count": 11,
   "metadata": {},
   "outputs": [
    {
     "data": {
      "text/html": [
       "<div>\n",
       "<style scoped>\n",
       "    .dataframe tbody tr th:only-of-type {\n",
       "        vertical-align: middle;\n",
       "    }\n",
       "\n",
       "    .dataframe tbody tr th {\n",
       "        vertical-align: top;\n",
       "    }\n",
       "\n",
       "    .dataframe thead th {\n",
       "        text-align: right;\n",
       "    }\n",
       "</style>\n",
       "<table border=\"1\" class=\"dataframe\">\n",
       "  <thead>\n",
       "    <tr style=\"text-align: right;\">\n",
       "      <th></th>\n",
       "      <th>gender\\trace_ethnicity\\tparental_level_of_education\\tlunch\\ttest_preparation_course\\tmath_score\\treading_score\\twriting_score</th>\n",
       "    </tr>\n",
       "  </thead>\n",
       "  <tbody>\n",
       "    <tr>\n",
       "      <th>0</th>\n",
       "      <td>female\\tgroup B\\tbachelor's degree\\tstandard\\t...</td>\n",
       "    </tr>\n",
       "    <tr>\n",
       "      <th>1</th>\n",
       "      <td>female\\tgroup C\\tsome college\\tstandard\\tcompl...</td>\n",
       "    </tr>\n",
       "    <tr>\n",
       "      <th>2</th>\n",
       "      <td>female\\tgroup B\\tmaster's degree\\tstandard\\tno...</td>\n",
       "    </tr>\n",
       "    <tr>\n",
       "      <th>3</th>\n",
       "      <td>male\\tgroup A\\tassociate's degree\\tfree/reduce...</td>\n",
       "    </tr>\n",
       "    <tr>\n",
       "      <th>4</th>\n",
       "      <td>male\\tgroup C\\tsome college\\tstandard\\tnone\\t7...</td>\n",
       "    </tr>\n",
       "  </tbody>\n",
       "</table>\n",
       "</div>"
      ],
      "text/plain": [
       "  gender\\trace_ethnicity\\tparental_level_of_education\\tlunch\\ttest_preparation_course\\tmath_score\\treading_score\\twriting_score\n",
       "0  female\\tgroup B\\tbachelor's degree\\tstandard\\t...                                                                           \n",
       "1  female\\tgroup C\\tsome college\\tstandard\\tcompl...                                                                           \n",
       "2  female\\tgroup B\\tmaster's degree\\tstandard\\tno...                                                                           \n",
       "3  male\\tgroup A\\tassociate's degree\\tfree/reduce...                                                                           \n",
       "4  male\\tgroup C\\tsome college\\tstandard\\tnone\\t7...                                                                           "
      ]
     },
     "execution_count": 11,
     "metadata": {},
     "output_type": "execute_result"
    }
   ],
   "source": [
    "df_new=pd.read_csv(r\"D:\\mlproject\\notebook\\data\\stud.csv\")\n",
    "df_new.head()"
   ]
  },
  {
   "cell_type": "code",
   "execution_count": null,
   "metadata": {},
   "outputs": [],
   "source": []
  }
 ],
 "metadata": {
  "kernelspec": {
   "display_name": "Python 3",
   "language": "python",
   "name": "python3"
  },
  "language_info": {
   "codemirror_mode": {
    "name": "ipython",
    "version": 3
   },
   "file_extension": ".py",
   "mimetype": "text/x-python",
   "name": "python",
   "nbconvert_exporter": "python",
   "pygments_lexer": "ipython3",
   "version": "3.8.0"
  }
 },
 "nbformat": 4,
 "nbformat_minor": 2
}
